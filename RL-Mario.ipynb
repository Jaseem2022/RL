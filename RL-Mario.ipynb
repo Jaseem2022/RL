{
 "cells": [
  {
   "cell_type": "markdown",
   "id": "4669466f",
   "metadata": {},
   "source": [
    "1. Setup Mario"
   ]
  },
  {
   "cell_type": "code",
   "execution_count": 17,
   "id": "57bd9d57",
   "metadata": {},
   "outputs": [
    {
     "name": "stdout",
     "output_type": "stream",
     "text": [
      "Collecting gym_super_mario_bros==7.4.0\n",
      "  Downloading gym_super_mario_bros-7.4.0-py3-none-any.whl (199 kB)\n",
      "     -------------------------------------- 199.1/199.1 kB 2.4 MB/s eta 0:00:00\n",
      "Requirement already satisfied: nes_py in c:\\users\\pjase\\anaconda3\\lib\\site-packages (8.2.1)\n",
      "Requirement already satisfied: pyglet<=1.5.21,>=1.4.0 in c:\\users\\pjase\\anaconda3\\lib\\site-packages (from nes_py) (1.5.21)\n",
      "Requirement already satisfied: numpy>=1.18.5 in c:\\users\\pjase\\anaconda3\\lib\\site-packages (from nes_py) (1.23.5)\n",
      "Requirement already satisfied: tqdm>=4.48.2 in c:\\users\\pjase\\anaconda3\\lib\\site-packages (from nes_py) (4.64.1)\n",
      "Requirement already satisfied: gym>=0.17.2 in c:\\users\\pjase\\anaconda3\\lib\\site-packages (from nes_py) (0.26.2)\n",
      "Requirement already satisfied: gym-notices>=0.0.4 in c:\\users\\pjase\\anaconda3\\lib\\site-packages (from gym>=0.17.2->nes_py) (0.0.8)\n",
      "Requirement already satisfied: cloudpickle>=1.2.0 in c:\\users\\pjase\\anaconda3\\lib\\site-packages (from gym>=0.17.2->nes_py) (2.0.0)\n",
      "Requirement already satisfied: colorama in c:\\users\\pjase\\anaconda3\\lib\\site-packages (from tqdm>=4.48.2->nes_py) (0.4.6)\n",
      "Installing collected packages: gym_super_mario_bros\n",
      "  Attempting uninstall: gym_super_mario_bros\n",
      "    Found existing installation: gym-super-mario-bros 7.3.0\n",
      "    Uninstalling gym-super-mario-bros-7.3.0:\n",
      "      Successfully uninstalled gym-super-mario-bros-7.3.0\n",
      "Successfully installed gym_super_mario_bros-7.4.0\n"
     ]
    }
   ],
   "source": [
    "!pip install gym_super_mario_bros==7.4.0 nes_py"
   ]
  },
  {
   "cell_type": "code",
   "execution_count": 18,
   "id": "6a6a4685",
   "metadata": {},
   "outputs": [],
   "source": [
    "#import the game\n",
    "\n",
    "import gym_super_mario_bros\n",
    "\n",
    "#import the joypad emulator\n",
    "\n",
    "from nes_py.wrappers import JoypadSpace\n",
    "\n",
    "#import the simplified controls\n",
    "from gym_super_mario_bros.actions import SIMPLE_MOVEMENT"
   ]
  },
  {
   "cell_type": "code",
   "execution_count": 19,
   "id": "7a59854e",
   "metadata": {},
   "outputs": [
    {
     "data": {
      "text/plain": [
       "[['NOOP'],\n",
       " ['right'],\n",
       " ['right', 'A'],\n",
       " ['right', 'B'],\n",
       " ['right', 'A', 'B'],\n",
       " ['A'],\n",
       " ['left']]"
      ]
     },
     "execution_count": 19,
     "metadata": {},
     "output_type": "execute_result"
    }
   ],
   "source": [
    "SIMPLE_MOVEMENT  #SEVEN TYPE OF ACTIONS THAT CAN BE DONE BY MARIO , NOOP - no operation"
   ]
  },
  {
   "cell_type": "code",
   "execution_count": 20,
   "id": "bbc2a90d",
   "metadata": {},
   "outputs": [],
   "source": [
    "#setup game  environment\n",
    "env = gym_super_mario_bros.make(\"SuperMarioBros-v3\") #look for website for documnetation (just a type of lvl)\n",
    "\n",
    "#wrap the environment with joystick\n",
    "env = JoypadSpace(env, SIMPLE_MOVEMENT)"
   ]
  },
  {
   "cell_type": "code",
   "execution_count": 21,
   "id": "be556b8d",
   "metadata": {},
   "outputs": [
    {
     "data": {
      "text/plain": [
       "Discrete(7)"
      ]
     },
     "execution_count": 21,
     "metadata": {},
     "output_type": "execute_result"
    }
   ],
   "source": [
    "env.action_space  #the smaller number of output is beacuse of wrapping. And it helps the AI to learn faster"
   ]
  },
  {
   "cell_type": "code",
   "execution_count": 22,
   "id": "bf13b7af",
   "metadata": {},
   "outputs": [
    {
     "data": {
      "text/plain": [
       "(240, 256, 3)"
      ]
     },
     "execution_count": 22,
     "metadata": {},
     "output_type": "execute_result"
    }
   ],
   "source": [
    "env.observation_space.shape #this is what we will get when we play the agian, the dimension of game frame"
   ]
  },
  {
   "cell_type": "code",
   "execution_count": null,
   "id": "c87e416c",
   "metadata": {},
   "outputs": [],
   "source": [
    "#create a flag - restart or not\n",
    "done = True  \n",
    "\n",
    "#loop through each frame in the game\n",
    "for step in range(1000):\n",
    "  #start the game to begin with\n",
    "  if done:\n",
    "    #start the game\n",
    "    state = env.reset()\n",
    "  #pass an action to our game: like jump,move.   env.action_space.sample():helps to take random action from SIMPLE_MOVEMENT\n",
    "  state,reward,done,info,_ = env.step(env.action_space.sample())\n",
    "  #show the game on screen\n",
    "  env.render()\n",
    "\n",
    "#close the game\n",
    "env.close()"
   ]
  },
  {
   "cell_type": "code",
   "execution_count": 9,
   "id": "baf24832",
   "metadata": {},
   "outputs": [
    {
     "data": {
      "text/plain": [
       "(240, 256, 3)"
      ]
     },
     "execution_count": 9,
     "metadata": {},
     "output_type": "execute_result"
    }
   ],
   "source": [
    "env.reset().shape"
   ]
  },
  {
   "cell_type": "code",
   "execution_count": null,
   "id": "467ac8ca",
   "metadata": {},
   "outputs": [],
   "source": [
    "env.step(1)"
   ]
  },
  {
   "cell_type": "markdown",
   "id": "3c04dc19",
   "metadata": {},
   "source": [
    "2. Preprocess Environment"
   ]
  },
  {
   "cell_type": "code",
   "execution_count": null,
   "id": "9f4906c2",
   "metadata": {},
   "outputs": [],
   "source": [
    "!pip install stable-baselines3"
   ]
  },
  {
   "cell_type": "code",
   "execution_count": null,
   "id": "b7dedb8e",
   "metadata": {},
   "outputs": [],
   "source": [
    "#import pytorch\n",
    "!pip install torch torchvision torchaudio --index-url https://download.pytorch.org/whl/cu118"
   ]
  },
  {
   "cell_type": "code",
   "execution_count": null,
   "id": "2cc5d467",
   "metadata": {},
   "outputs": [],
   "source": [
    "#install stable baseline for RL Stuff\n",
    "pip install stable-baselines3[extra]"
   ]
  },
  {
   "cell_type": "code",
   "execution_count": null,
   "id": "4c649afa",
   "metadata": {},
   "outputs": [],
   "source": [
    "#import frame stacker wrapper and grayscaling wrapper\n",
    "from gym.wrappers import FrameStack, GrayScaleObservation\n",
    "\n",
    "#import Vectorization wrappers\n",
    "from stable_baselines3.common.vec_env import VecFrameStack, DummyVecEnv\n",
    "\n",
    "#import matplotlib to show the impact of frame stacking\n",
    "from matplotlib import pyplot as plt"
   ]
  },
  {
   "cell_type": "code",
   "execution_count": null,
   "id": "aacc1cd5",
   "metadata": {},
   "outputs": [],
   "source": [
    "from nes_py import NESEnv\n",
    "_reset = NESEnv.reset\n",
    "\n",
    "def reset(*args, **kwargs):\n",
    "    obs_info = _reset(*args, **kwargs)\n",
    "    obs, info = obs_info if type(obs_info) == tuple else (obs_info, {})\n",
    "    return obs, info\n",
    "\n",
    "NESEnv.reset = reset"
   ]
  },
  {
   "cell_type": "code",
   "execution_count": null,
   "id": "e8738f56",
   "metadata": {},
   "outputs": [],
   "source": [
    "#1. Create the base environment\n",
    "env = gym_super_mario_bros.make(\"SuperMarioBros-v0\")\n",
    "\n",
    "#2. simplify the controls\n",
    "env = JoypadSpace(env, SIMPLE_MOVEMENT)\n",
    "\n",
    "#3.Grayscale\n",
    "env = GrayScaleObservation(env, keep_dim = True) #keep_dim = True is needed to stack the frames in 5th step\n",
    "\n",
    "#4.Wrap inside the Dummy Environment\n",
    "env = DummyVecEnv([lambda : env])\n",
    "\n",
    "#5. Stack the frames\n",
    "env = VecFrameStack(env,4,channels_order='last')"
   ]
  },
  {
   "cell_type": "code",
   "execution_count": null,
   "id": "86369f51",
   "metadata": {},
   "outputs": [],
   "source": [
    "state = env.reset()"
   ]
  },
  {
   "cell_type": "code",
   "execution_count": null,
   "id": "aee535b7",
   "metadata": {},
   "outputs": [],
   "source": [
    "state.shape #grayscaled value"
   ]
  },
  {
   "cell_type": "code",
   "execution_count": null,
   "id": "bc48b18e",
   "metadata": {},
   "outputs": [],
   "source": [
    "state , reward, done, info = env.step([env.action_space.sample()])"
   ]
  },
  {
   "cell_type": "code",
   "execution_count": null,
   "id": "1fea6c2b",
   "metadata": {},
   "outputs": [],
   "source": [
    "#use matplotlib to plot the grayscale frame of mario\n",
    "plt.imshow(state[0])"
   ]
  },
  {
   "cell_type": "code",
   "execution_count": null,
   "id": "8799ce70",
   "metadata": {},
   "outputs": [],
   "source": [
    "state.shape"
   ]
  },
  {
   "cell_type": "code",
   "execution_count": null,
   "id": "f6da07f6",
   "metadata": {},
   "outputs": [],
   "source": [
    "#visualise\n",
    "plt.figure(figsize = (10,8))\n",
    "for idx in range(state.shape[3]):\n",
    "  plt.subplot(1,4,idx+1)\n",
    "  plt.imshow(state[0][:,:,idx])\n",
    "\n",
    "plt.show()\n",
    "\n",
    "\"\"\"\n",
    "whenever you run : state , reward, done, info = env.step([env.action_space.sample()]) \n",
    "another frame is displayed, so run 4 times to display all the 4 stacked frame.\n",
    "reset the environment to start over again\n",
    "\"\"\""
   ]
  },
  {
   "cell_type": "markdown",
   "id": "15c53e54",
   "metadata": {},
   "source": [
    "3. Build the RL Model"
   ]
  },
  {
   "cell_type": "code",
   "execution_count": null,
   "id": "64dc66e3",
   "metadata": {},
   "outputs": [],
   "source": [
    "#Import os for file path mgmt\n",
    "import os\n",
    "\n",
    "#import PPO (RL algorithm by OpenAI) \n",
    "from stable_baselines3 import PPO\n",
    "\n",
    "#import Base Callback for saving models\n",
    "#from stable_baselines3.common.callbacks import BaseCallback"
   ]
  },
  {
   "cell_type": "code",
   "execution_count": null,
   "id": "0d494368",
   "metadata": {},
   "outputs": [],
   "source": [
    "#1 . create PPO model\n",
    "model = PPO(\"CnnPolicy\", #convolutional nueral network policy\n",
    "            env,        \n",
    "            verbose = 1,\n",
    "            learning_rate = 0.000001,\n",
    "            n_steps = 512 #frames to wait until the game update\n",
    "            )"
   ]
  },
  {
   "cell_type": "code",
   "execution_count": null,
   "id": "82fa787c",
   "metadata": {},
   "outputs": [],
   "source": [
    "#2 . run the model\n",
    "model.learn(total_timesteps = 10000)"
   ]
  },
  {
   "cell_type": "markdown",
   "id": "1bb232ae",
   "metadata": {},
   "source": [
    "4. Test it Out"
   ]
  },
  {
   "cell_type": "code",
   "execution_count": null,
   "id": "1abed2d6",
   "metadata": {},
   "outputs": [],
   "source": [
    "model.save(\"RL-Mario-Model\")"
   ]
  },
  {
   "cell_type": "code",
   "execution_count": null,
   "id": "f7199d52",
   "metadata": {},
   "outputs": [],
   "source": [
    "model.load(\"RL-Mario-Model\")"
   ]
  },
  {
   "cell_type": "code",
   "execution_count": null,
   "id": "acb3651d",
   "metadata": {},
   "outputs": [],
   "source": [
    "state = env.reset()\n",
    "model.predict(state)"
   ]
  },
  {
   "cell_type": "code",
   "execution_count": null,
   "id": "db3482b1",
   "metadata": {},
   "outputs": [],
   "source": [
    "SIMPLE_MOVEMENT[model.predict(state)[0][0]]  #KEY TO PRESS IN THIS PARTICULAR STATE"
   ]
  },
  {
   "cell_type": "code",
   "execution_count": null,
   "id": "19f67057",
   "metadata": {},
   "outputs": [],
   "source": [
    "#test the model\n",
    "state = env.reset()\n",
    "\n",
    "#loop through the game\n",
    "while True:\n",
    "  \n",
    "  action, _ = model.predict(state)\n",
    "  state,reward, done, info = env.step(action)\n",
    "  env.render()"
   ]
  }
 ],
 "metadata": {
  "kernelspec": {
   "display_name": "Python 3 (ipykernel)",
   "language": "python",
   "name": "python3"
  },
  "language_info": {
   "codemirror_mode": {
    "name": "ipython",
    "version": 3
   },
   "file_extension": ".py",
   "mimetype": "text/x-python",
   "name": "python",
   "nbconvert_exporter": "python",
   "pygments_lexer": "ipython3",
   "version": "3.10.9"
  }
 },
 "nbformat": 4,
 "nbformat_minor": 5
}
